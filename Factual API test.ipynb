{
 "cells": [
  {
   "cell_type": "code",
   "execution_count": null,
   "metadata": {
    "collapsed": false
   },
   "outputs": [],
   "source": [
    "# Normal stack of pandas, numpy, matplotlib and seaborn\n",
    "import pandas as pd\n",
    "import numpy as np\n",
    "import matplotlib.pyplot as plt\n",
    "import matplotlib.pylab as pylab\n",
    "import seaborn as sns\n",
    "\n",
    "import os\n",
    "import json\n",
    "\n",
    "# Factual API\n",
    "from factual import Factual # https://github.com/Factual/factual-python-driver\n",
    "from factual.utils import circle\n",
    "\n",
    "%matplotlib inline"
   ]
  },
  {
   "cell_type": "markdown",
   "metadata": {},
   "source": [
    "Factual API TODOs in order to make it work on your localhost:\n",
    " 1. run in terminal \"pip install factual-api\" without \"\"\n",
    " 2. sign up for a Factual API key here: https://www.factual.com/contact/new#free_api_access\n",
    " 3. Set up your key and secret as environment variables - FACTUAL_API_KEY and FACTUAL_API_SECRET respectively\n",
    "    \n",
    "    3.1. On mac you just open .bash_profile and add two lines: \n",
    "     \n",
    "     export FACTUAL_API_KEY=your_key\n",
    "     \n",
    "     export FACTUAL_API_SECRET=your_secret\n",
    "     \n",
    "    3.2. Restart shell and run jupyter notebook in this newly restarted shell (terminal)\n",
    "     \n",
    " 4. ...profit ;)"
   ]
  },
  {
   "cell_type": "code",
   "execution_count": null,
   "metadata": {
    "collapsed": false
   },
   "outputs": [],
   "source": [
    "# You can verify that your env variables are ok with:\n",
    "# print(os.environ['FACTUAL_API_KEY'])\n",
    "# print(os.environ['FACTUAL_API_SECRET'])"
   ]
  },
  {
   "cell_type": "code",
   "execution_count": null,
   "metadata": {
    "collapsed": true
   },
   "outputs": [],
   "source": [
    "factual = Factual(os.environ['FACTUAL_API_KEY'], os.environ['FACTUAL_API_SECRET'])"
   ]
  },
  {
   "cell_type": "code",
   "execution_count": null,
   "metadata": {
    "collapsed": false
   },
   "outputs": [],
   "source": [
    "places = factual.table('places-ch')\n",
    "places.schema()"
   ]
  },
  {
   "cell_type": "code",
   "execution_count": null,
   "metadata": {
    "collapsed": false
   },
   "outputs": [],
   "source": [
    "places.data()"
   ]
  },
  {
   "cell_type": "code",
   "execution_count": null,
   "metadata": {
    "collapsed": false
   },
   "outputs": [],
   "source": [
    "the_great_escape = places.search('The Great Escape').data()\n",
    "print(json.dumps(the_great_escape, indent=2))"
   ]
  },
  {
   "cell_type": "code",
   "execution_count": null,
   "metadata": {
    "collapsed": false
   },
   "outputs": [],
   "source": [
    "#Coffe near EPFL\n",
    "epfl_coffe = places.geo(circle(46.522773,6.63313, 80)).offset(100).limit(50).data()\n",
    "print(json.dumps(epfl_coffe, indent=2))"
   ]
  },
  {
   "cell_type": "code",
   "execution_count": null,
   "metadata": {
    "collapsed": false
   },
   "outputs": [],
   "source": [
    "len(epfl_coffe)"
   ]
  },
  {
   "cell_type": "markdown",
   "metadata": {},
   "source": [
    "LAUSANE MVP TODOs:\n",
    " - Create a dict with coordinates and radius for Lausanne\n",
    " - Write up a script scraping API across those coordinates AND\n",
    " - write up a system to store scrapped coordinates and untag them from future scrapping\n",
    "\n",
    "\n",
    "_________\n",
    "General TODOs:\n",
    "\n",
    " - We gotta figure out how we would like to divide Switzerland into small pieces (squares or circles) such that we will be able to extract all spots provided by factual without actually hitting its limit (\"3 Page limit=50 is the maximum number of rows that can be returned in a single request using the limit parameter. Row limit=500 is the maximum depth a request can page into using (e.g., offset + limit).\").\n",
    " - Since we wont be able to squeeze it in 10 000 places/day we also need to figure out a way to run script on multiple machines (using few API-KEYS) and on the course of multiple days."
   ]
  },
  {
   "cell_type": "code",
   "execution_count": null,
   "metadata": {
    "collapsed": true
   },
   "outputs": [],
   "source": []
  }
 ],
 "metadata": {
  "anaconda-cloud": {},
  "kernelspec": {
   "display_name": "Python [Root]",
   "language": "python",
   "name": "Python [Root]"
  },
  "language_info": {
   "codemirror_mode": {
    "name": "ipython",
    "version": 3
   },
   "file_extension": ".py",
   "mimetype": "text/x-python",
   "name": "python",
   "nbconvert_exporter": "python",
   "pygments_lexer": "ipython3",
   "version": "3.5.2"
  }
 },
 "nbformat": 4,
 "nbformat_minor": 0
}
